{
 "cells": [
  {
   "cell_type": "markdown",
   "id": "ec6be659-8934-47e8-8aa7-92d6f4c65ed9",
   "metadata": {},
   "source": [
    "# Desk Cycle"
   ]
  },
  {
   "cell_type": "code",
   "execution_count": 1,
   "id": "79f1e46f-8cfc-4d40-b8e4-52022f48c3d1",
   "metadata": {},
   "outputs": [
    {
     "ename": "ModuleNotFoundError",
     "evalue": "No module named 'DeskCycle'",
     "output_type": "error",
     "traceback": [
      "\u001b[0;31m---------------------------------------------------------------------------\u001b[0m",
      "\u001b[0;31mModuleNotFoundError\u001b[0m                       Traceback (most recent call last)",
      "Cell \u001b[0;32mIn[1], line 2\u001b[0m\n\u001b[1;32m      1\u001b[0m \u001b[38;5;66;03m# Local packages\u001b[39;00m\n\u001b[0;32m----> 2\u001b[0m \u001b[38;5;28;01mimport\u001b[39;00m\u001b[38;5;250m \u001b[39m\u001b[38;5;21;01mDeskCycle\u001b[39;00m\u001b[38;5;21;01m.\u001b[39;00m\u001b[38;5;21;01mDeskCycle\u001b[39;00m\u001b[38;5;250m \u001b[39m\u001b[38;5;28;01mas\u001b[39;00m\u001b[38;5;250m \u001b[39m\u001b[38;5;21;01mdc\u001b[39;00m\n\u001b[1;32m      3\u001b[0m \u001b[38;5;28;01mimport\u001b[39;00m\u001b[38;5;250m \u001b[39m\u001b[38;5;21;01mTools\u001b[39;00m\u001b[38;5;21;01m.\u001b[39;00m\u001b[38;5;21;01mplotting_utils\u001b[39;00m\u001b[38;5;250m \u001b[39m\u001b[38;5;28;01mas\u001b[39;00m\u001b[38;5;250m \u001b[39m\u001b[38;5;21;01mpu\u001b[39;00m\n\u001b[1;32m      4\u001b[0m \u001b[38;5;28;01mimport\u001b[39;00m\u001b[38;5;250m \u001b[39m\u001b[38;5;21;01mTools\u001b[39;00m\u001b[38;5;21;01m.\u001b[39;00m\u001b[38;5;21;01mmetrics_utils\u001b[39;00m\u001b[38;5;250m \u001b[39m\u001b[38;5;28;01mas\u001b[39;00m\u001b[38;5;250m \u001b[39m\u001b[38;5;21;01mmu\u001b[39;00m\n",
      "\u001b[0;31mModuleNotFoundError\u001b[0m: No module named 'DeskCycle'"
     ]
    }
   ],
   "source": [
    "# Local packages\n",
    "import DeskCycle.DeskCycle as dc\n",
    "import Tools.plotting_utils as pu\n",
    "import Tools.metrics_utils as mu"
   ]
  },
  {
   "cell_type": "code",
   "execution_count": null,
   "id": "695e88b8-72ab-44dd-a977-dab7e392b9c1",
   "metadata": {},
   "outputs": [],
   "source": [
    "\n",
    "# Grab data set\n",
    "exercise = dc.DeskCycleData()\n",
    "exercise.set_data()\n",
    "\n",
    "# Plot MPH Rate\n",
    "pu.plot_mph_rate(exercise=exercise)\n",
    "pu.plot_mph_rate_3d(exercise=exercise)\n",
    "\n",
    "# Monthly stats + plot\n",
    "all_year_months, year_month_distance_list, year_month_calories_list, year_month_days_between_events_list = mu.calculate_year_month_stats(exercise=exercise)\n",
    "\n",
    "pu.plot_metric_stats_by_timeframe(all_times=all_year_months,\n",
    "                                  metric_list=year_month_distance_list, \n",
    "                                  metric=\"Distance\", \n",
    "                                  timeframe=\"Monthly\")\n",
    "\n",
    "pu.plot_metric_stats_by_timeframe(all_times=all_year_months,\n",
    "                                  metric_list=year_month_days_between_events_list, \n",
    "                                  metric=\"Days Between Events\", \n",
    "                                  timeframe=\"Monthly\")\n",
    "\n",
    "# Yearly stats + plot\n",
    "all_years, year_distance_list, year_calories_list, year_days_between_events_list = mu.calculate_yearly_stats(exercise=exercise)\n",
    "\n",
    "pu.plot_metric_stats_by_timeframe(all_times=all_years,\n",
    "                                  metric_list=year_distance_list, \n",
    "                                  metric=\"Distance\", \n",
    "                                  timeframe=\"Yearly\")\n",
    "pu.plot_metric_stats_by_timeframe(all_times=all_years,\n",
    "                                  metric_list=year_days_between_events_list, \n",
    "                                  metric=\"Days Between Events\", \n",
    "                                  timeframe=\"Yearly\")\n",
    "\n",
    "# Weekly stats + plot\n",
    "all_weeks, week_distance_list, week_calories_list, week_days_between_events_list = mu.calculate_weekly_stats(exercise=exercise)\n",
    "\n",
    "pu.plot_metric_stats_by_timeframe(all_times=all_weeks,\n",
    "                                  metric_list=week_distance_list, \n",
    "                                  metric=\"Distance\", \n",
    "                                  timeframe=\"Weekly\")\n",
    "pu.plot_metric_stats_by_timeframe(all_times=all_weeks,\n",
    "                                  metric_list=week_days_between_events_list, \n",
    "                                  metric=\"Days Between Events\", \n",
    "                                  timeframe=\"Weekly\")\n",
    "\n",
    "# Total stats\n",
    "total_distance, total_calories, total_days_between_events = mu.calculate_total_stats(exercise=exercise)\n",
    "\n",
    "# Interesting stats\n",
    "mu.print_interesting_distance_stats(total_distance=total_distance)\n",
    "mu.print_interesting_calories_stats(total_calories=total_calories)"
   ]
  },
  {
   "cell_type": "code",
   "execution_count": null,
   "id": "09e025df-4dbf-42d2-92c9-be3f9a53ec48",
   "metadata": {},
   "outputs": [],
   "source": [
    "# Weekday distance - Overall\n",
    "all_weekdays, weekday_events_list, weekday_average_distance_list = mu.calculate_weekday_exercise_stats(exercise=exercise)\n",
    "    \n",
    "pu.plot_metric_stats_by_timeframe(all_times=all_weekdays,\n",
    "                                  metric_list=weekday_events_list, \n",
    "                                  metric=\"Total Distance (mi)\", \n",
    "                                  timeframe=\"Weekdays\")\n",
    "\n",
    "for y in all_years:\n",
    "\n",
    "    # Weekday drinks - by year\n",
    "    all_weekdays, weekday_events_list, weekday_average_distance_list = mu.calculate_weekday_exercise_stats(exercise=exercise, year=y)\n",
    "        \n",
    "    pu.plot_metric_stats_by_timeframe(all_times=all_weekdays,\n",
    "                                      metric_list=weekday_average_distance_list, \n",
    "                                      metric=\"Average Distance ({})\".format(y), \n",
    "                                      timeframe=\"Weekdays\")"
   ]
  }
 ],
 "metadata": {
  "kernelspec": {
   "display_name": "desk-cycle",
   "language": "python",
   "name": "desk-cycle"
  },
  "language_info": {
   "codemirror_mode": {
    "name": "ipython",
    "version": 3
   },
   "file_extension": ".py",
   "mimetype": "text/x-python",
   "name": "python",
   "nbconvert_exporter": "python",
   "pygments_lexer": "ipython3",
   "version": "3.10.16"
  }
 },
 "nbformat": 4,
 "nbformat_minor": 5
}
