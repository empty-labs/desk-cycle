{
 "cells": [
  {
   "cell_type": "markdown",
   "id": "ec6be659-8934-47e8-8aa7-92d6f4c65ed9",
   "metadata": {},
   "source": [
    "# Desk Cycle"
   ]
  },
  {
   "cell_type": "code",
   "execution_count": null,
   "id": "79f1e46f-8cfc-4d40-b8e4-52022f48c3d1",
   "metadata": {},
   "outputs": [],
   "source": [
    "# Local packages\n",
    "import Classes.DeskCycle as dc\n",
    "import Tools.plotting_utils as pu\n",
    "import Tools.metrics_utils as mu"
   ]
  },
  {
   "cell_type": "code",
   "execution_count": null,
   "id": "695e88b8-72ab-44dd-a977-dab7e392b9c1",
   "metadata": {},
   "outputs": [],
   "source": [
    "\n",
    "# Grab data set\n",
    "exercise = dc.DeskCycleData()\n",
    "exercise.set_data()\n",
    "\n",
    "# Plot MPH Rate\n",
    "pu.plot_mph_rate(exercise=exercise)\n",
    "pu.plot_mph_rate_3d(exercise=exercise)\n",
    "\n",
    "# Monthly stats + plot\n",
    "all_year_months, year_month_distance_list, year_month_calories_list, year_month_days_between_events_list = mu.calculate_year_month_stats(exercise=exercise)\n",
    "\n",
    "pu.plot_metric_stats_by_timeframe(all_times=all_year_months,\n",
    "                                  metric_list=year_month_distance_list, \n",
    "                                  metric=\"Distance\", \n",
    "                                  timeframe=\"Monthly\")\n",
    "\n",
    "pu.plot_metric_stats_by_timeframe(all_times=all_year_months,\n",
    "                                  metric_list=year_month_days_between_events_list, \n",
    "                                  metric=\"Days Between Events\", \n",
    "                                  timeframe=\"Monthly\")\n",
    "\n",
    "# Yearly stats + plot\n",
    "all_years, year_distance_list, year_calories_list, year_days_between_events_list = mu.calculate_yearly_stats(exercise=exercise)\n",
    "\n",
    "pu.plot_metric_stats_by_timeframe(all_times=all_years,\n",
    "                                  metric_list=year_distance_list, \n",
    "                                  metric=\"Distance\", \n",
    "                                  timeframe=\"Yearly\")\n",
    "pu.plot_metric_stats_by_timeframe(all_times=all_years,\n",
    "                                  metric_list=year_days_between_events_list, \n",
    "                                  metric=\"Days Between Events\", \n",
    "                                  timeframe=\"Yearly\")\n",
    "\n",
    "# Weekly stats + plot\n",
    "all_weeks, week_distance_list, week_calories_list, week_days_between_events_list = mu.calculate_weekly_stats(exercise=exercise)\n",
    "\n",
    "pu.plot_metric_stats_by_timeframe(all_times=all_weeks,\n",
    "                                  metric_list=week_distance_list, \n",
    "                                  metric=\"Distance\", \n",
    "                                  timeframe=\"Weekly\")\n",
    "pu.plot_metric_stats_by_timeframe(all_times=all_weeks,\n",
    "                                  metric_list=week_days_between_events_list, \n",
    "                                  metric=\"Days Between Events\", \n",
    "                                  timeframe=\"Weekly\")\n",
    "\n",
    "# Total stats\n",
    "total_distance, total_calories, total_days_between_events = mu.calculate_total_stats(exercise=exercise)\n",
    "\n",
    "# Interesting stats\n",
    "mu.print_interesting_distance_stats(total_distance=total_distance)\n",
    "mu.print_interesting_calories_stats(total_calories=total_calories)"
   ]
  },
  {
   "cell_type": "code",
   "execution_count": null,
   "id": "09e025df-4dbf-42d2-92c9-be3f9a53ec48",
   "metadata": {},
   "outputs": [],
   "source": [
    "# Weekday distance - Overall\n",
    "all_weekdays, weekday_events_list, weekday_average_distance_list = mu.calculate_weekday_exercise_stats(exercise=exercise)\n",
    "    \n",
    "pu.plot_metric_stats_by_timeframe(all_times=all_weekdays,\n",
    "                                  metric_list=weekday_events_list, \n",
    "                                  metric=\"Total Distance (mi)\", \n",
    "                                  timeframe=\"Weekdays\")\n",
    "\n",
    "for y in all_years:\n",
    "\n",
    "    # Weekday drinks - by year\n",
    "    all_weekdays, weekday_events_list, weekday_average_distance_list = mu.calculate_weekday_exercise_stats(exercise=exercise, year=y)\n",
    "        \n",
    "    pu.plot_metric_stats_by_timeframe(all_times=all_weekdays,\n",
    "                                      metric_list=weekday_average_distance_list, \n",
    "                                      metric=\"Average Distance ({})\".format(y), \n",
    "                                      timeframe=\"Weekdays\")"
   ]
  },
  {
   "cell_type": "code",
   "execution_count": null,
   "id": "f3084480-0c90-4559-87f6-ca3861805e39",
   "metadata": {},
   "outputs": [],
   "source": []
  },
  {
   "cell_type": "code",
   "execution_count": null,
   "id": "519baae2-706c-42c2-861d-a00f5bdfe15e",
   "metadata": {},
   "outputs": [],
   "source": []
  }
 ],
 "metadata": {
  "kernelspec": {
   "display_name": "desk-cycle",
   "language": "python",
   "name": "desk-cycle"
  },
  "language_info": {
   "codemirror_mode": {
    "name": "ipython",
    "version": 3
   },
   "file_extension": ".py",
   "mimetype": "text/x-python",
   "name": "python",
   "nbconvert_exporter": "python",
   "pygments_lexer": "ipython3",
   "version": "3.10.17"
  }
 },
 "nbformat": 4,
 "nbformat_minor": 5
}
